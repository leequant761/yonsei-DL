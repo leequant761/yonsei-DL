{
 "cells": [
  {
   "cell_type": "markdown",
   "metadata": {},
   "source": [
    "# 1. Data Import\n",
    "\n",
    "[Download](https://www.kaggle.com/arpitjain007/game-of-deep-learning-ship-datasets)\n",
    "\n",
    "data 디렉토리에 저장하기"
   ]
  },
  {
   "cell_type": "code",
   "execution_count": 1,
   "metadata": {},
   "outputs": [],
   "source": [
    "import os, shutil\n",
    "import pandas as pd"
   ]
  },
  {
   "cell_type": "code",
   "execution_count": 2,
   "metadata": {},
   "outputs": [],
   "source": [
    "# original location\n",
    "data_dir = os.getcwd() + '\\\\data\\\\train\\\\images'\n",
    "# destination\n",
    "dest_dir = os.getcwd() + '\\\\data\\\\splited'\n",
    "\n",
    "# split data train/valid/test\n",
    "train_dir = os.path.join(dest_dir, 'train')\n",
    "validation_dir = os.path.join(dest_dir, 'valid')\n",
    "test_dir = os.path.join(dest_dir, 'test')\n",
    "\n",
    "train_Cargo_dir = os.path.join(train_dir, 'Cargo')\n",
    "train_Military_dir = os.path.join(train_dir, 'Military')\n",
    "train_Carrier_dir = os.path.join(train_dir, 'Carrier')\n",
    "train_Cruise_dir = os.path.join(train_dir, 'Cruise')\n",
    "train_Tankers_dir = os.path.join(train_dir, 'Tanker')\n",
    "\n",
    "validation_Cargo_dir = os.path.join(validation_dir, 'Cargo')\n",
    "validation_Military_dir = os.path.join(validation_dir, 'Military')\n",
    "validation_Carrier_dir = os.path.join(validation_dir, 'Carrier')\n",
    "validation_Cruise_dir = os.path.join(validation_dir, 'Cruise')\n",
    "validation_Tankers_dir = os.path.join(validation_dir, 'Tanker')\n",
    "\n",
    "test_Cargo_dir = os.path.join(test_dir, 'Cargo')\n",
    "test_Military_dir = os.path.join(test_dir, 'Military')\n",
    "test_Carrier_dir = os.path.join(test_dir, 'Carrier')\n",
    "test_Cruise_dir = os.path.join(test_dir, 'Cruise')\n",
    "test_Tankers_dir = os.path.join(test_dir, 'Tanker')"
   ]
  },
  {
   "cell_type": "code",
   "execution_count": 3,
   "metadata": {},
   "outputs": [],
   "source": [
    "label_list = pd.read_csv('./data/train/train.csv')"
   ]
  },
  {
   "cell_type": "markdown",
   "metadata": {},
   "source": [
    "## 배의 종류별 이미지 개수\n",
    "\n",
    "{'Cargo': 1, 'Military': 2, 'Carrier': 3, 'Cruise': 4, 'Tankers': 5}"
   ]
  },
  {
   "cell_type": "code",
   "execution_count": 4,
   "metadata": {
    "scrolled": false
   },
   "outputs": [
    {
     "data": {
      "text/plain": [
       "1    2120\n",
       "2    1167\n",
       "3     916\n",
       "4     832\n",
       "5    1217\n",
       "Name: category, dtype: int64"
      ]
     },
     "execution_count": 4,
     "metadata": {},
     "output_type": "execute_result"
    }
   ],
   "source": [
    "label_list.category.value_counts().sort_index()"
   ]
  },
  {
   "cell_type": "markdown",
   "metadata": {},
   "source": [
    "## 계층 샘플링"
   ]
  },
  {
   "cell_type": "code",
   "execution_count": 5,
   "metadata": {},
   "outputs": [],
   "source": [
    "from sklearn.model_selection import train_test_split"
   ]
  },
  {
   "cell_type": "code",
   "execution_count": 6,
   "metadata": {},
   "outputs": [],
   "source": [
    "fname_dir = {}"
   ]
  },
  {
   "cell_type": "code",
   "execution_count": 7,
   "metadata": {},
   "outputs": [],
   "source": [
    "cargo_fname = label_list.loc[label_list.category==1,:].image.values\n",
    "fname_dir['Cargo_train'], fname_dir['Cargo_test'] = train_test_split(cargo_fname, test_size=0.25, random_state=2067)\n",
    "fname_dir['Cargo_train'], fname_dir['Cargo_valid'] = train_test_split(fname_dir['Cargo_train'], test_size=0.25, random_state=2067)\n",
    "\n",
    "military_fname = label_list.loc[label_list.category==2,:].image.values\n",
    "fname_dir['Military_train'], fname_dir['Military_test'] = train_test_split(military_fname, test_size=0.25, random_state=2067)\n",
    "fname_dir['Military_train'], fname_dir['Military_valid'] = train_test_split(fname_dir['Military_train'], test_size=0.25, random_state=2067)\n",
    "\n",
    "carrier_fname = label_list.loc[label_list.category==3,:].image.values\n",
    "fname_dir['Carrier_train'], fname_dir['Carrier_test'] = train_test_split(carrier_fname, test_size=0.25, random_state=2067)\n",
    "fname_dir['Carrier_train'], fname_dir['Carrier_valid'] = train_test_split(fname_dir['Carrier_train'], test_size=0.25, random_state=2067)\n",
    "\n",
    "cruise_fname = label_list.loc[label_list.category==4,:].image.values\n",
    "fname_dir['Cruise_train'], fname_dir['Cruise_test'] = train_test_split(cruise_fname, test_size=0.25, random_state=2067)\n",
    "fname_dir['Cruise_train'], fname_dir['Cruise_valid'] = train_test_split(fname_dir['Cruise_train'], test_size=0.25, random_state=2067)\n",
    "\n",
    "tanker_fname = label_list.loc[label_list.category==5,:].image.values\n",
    "fname_dir['Tanker_train'], fname_dir['Tanker_test'] = train_test_split(tanker_fname, test_size=0.25, random_state=2067)\n",
    "fname_dir['Tanker_train'], fname_dir['Tanker_valid'] = train_test_split(fname_dir['Tanker_train'], test_size=0.25, random_state=2067)"
   ]
  },
  {
   "cell_type": "code",
   "execution_count": 8,
   "metadata": {},
   "outputs": [
    {
     "name": "stdout",
     "output_type": "stream",
     "text": [
      "already exist\n",
      "already exist\n",
      "already exist\n",
      "already exist\n",
      "already exist\n",
      "already exist\n",
      "already exist\n",
      "already exist\n",
      "already exist\n",
      "already exist\n",
      "already exist\n",
      "already exist\n",
      "already exist\n",
      "already exist\n",
      "already exist\n",
      "already exist\n",
      "already exist\n",
      "already exist\n",
      "already exist\n"
     ]
    }
   ],
   "source": [
    "# data/splited\n",
    "try:\n",
    "    os.mkdir(dest_dir)\n",
    "except FileExistsError:\n",
    "    print('already exist')\n",
    "\n",
    "try:\n",
    "    os.mkdir(train_dir)\n",
    "except FileExistsError:\n",
    "    print('already exist')\n",
    "    \n",
    "try:\n",
    "    os.mkdir(validation_dir)\n",
    "except FileExistsError:\n",
    "    print('already exist')\n",
    "    \n",
    "try:\n",
    "    os.mkdir(test_dir)\n",
    "except FileExistsError:\n",
    "    print('already exist')\n",
    "    \n",
    "# data/splited/train/...\n",
    "# data/splited/valid/...\n",
    "# data/splited/test/...    \n",
    "mkdir_list = [train_Cargo_dir,train_Military_dir ,train_Carrier_dir ,train_Cruise_dir ,train_Tankers_dir ,\n",
    "              validation_Cargo_dir ,validation_Military_dir ,validation_Carrier_dir ,validation_Cruise_dir ,\n",
    "              validation_Tankers_dir ,test_Cargo_dir ,test_Military_dir ,test_Carrier_dir ,test_Cruise_dir ,test_Tankers_dir]\n",
    "\n",
    "for mkdir in mkdir_list:\n",
    "    try:\n",
    "        os.mkdir(mkdir)\n",
    "        for fname in fname_dir[mkdir.split('\\\\')[-1] + '_' + mkdir.split('\\\\')[-2]]:\n",
    "            src = os.path.join(data_dir, fname)\n",
    "            dst = os.path.join(mkdir, fname)\n",
    "            shutil.copyfile(src, dst)\n",
    "    except FileExistsError:\n",
    "        print('already exist')"
   ]
  },
  {
   "cell_type": "markdown",
   "metadata": {},
   "source": [
    "# 2. Building your network"
   ]
  },
  {
   "cell_type": "code",
   "execution_count": 9,
   "metadata": {},
   "outputs": [
    {
     "name": "stderr",
     "output_type": "stream",
     "text": [
      "Using TensorFlow backend.\n"
     ]
    },
    {
     "name": "stdout",
     "output_type": "stream",
     "text": [
      "WARNING:tensorflow:From C:\\Users\\MASTER\\Anaconda3\\envs\\datascience\\lib\\site-packages\\tensorflow\\python\\framework\\op_def_library.py:263: colocate_with (from tensorflow.python.framework.ops) is deprecated and will be removed in a future version.\n",
      "Instructions for updating:\n",
      "Colocations handled automatically by placer.\n"
     ]
    }
   ],
   "source": [
    "from keras import layers\n",
    "from keras import models\n",
    "model = models.Sequential()\n",
    "model.add(layers.Conv2D(32, (3, 3), activation='relu', input_shape=(150, 150, 3)))\n",
    "model.add(layers.MaxPooling2D((2, 2)))\n",
    "model.add(layers.Conv2D(64, (3, 3), activation='relu'))\n",
    "model.add(layers.MaxPooling2D((2, 2)))\n",
    "model.add(layers.Conv2D(128, (3, 3), activation='relu'))\n",
    "model.add(layers.MaxPooling2D((2, 2)))\n",
    "model.add(layers.Conv2D(128, (3, 3), activation='relu'))\n",
    "model.add(layers.MaxPooling2D((2, 2)))\n",
    "model.add(layers.Flatten())\n",
    "model.add(layers.Dense(512, activation='relu'))\n",
    "model.add(layers.Dense(5, activation='softmax'))"
   ]
  },
  {
   "cell_type": "code",
   "execution_count": 10,
   "metadata": {},
   "outputs": [
    {
     "name": "stdout",
     "output_type": "stream",
     "text": [
      "_________________________________________________________________\n",
      "Layer (type)                 Output Shape              Param #   \n",
      "=================================================================\n",
      "conv2d_1 (Conv2D)            (None, 148, 148, 32)      896       \n",
      "_________________________________________________________________\n",
      "max_pooling2d_1 (MaxPooling2 (None, 74, 74, 32)        0         \n",
      "_________________________________________________________________\n",
      "conv2d_2 (Conv2D)            (None, 72, 72, 64)        18496     \n",
      "_________________________________________________________________\n",
      "max_pooling2d_2 (MaxPooling2 (None, 36, 36, 64)        0         \n",
      "_________________________________________________________________\n",
      "conv2d_3 (Conv2D)            (None, 34, 34, 128)       73856     \n",
      "_________________________________________________________________\n",
      "max_pooling2d_3 (MaxPooling2 (None, 17, 17, 128)       0         \n",
      "_________________________________________________________________\n",
      "conv2d_4 (Conv2D)            (None, 15, 15, 128)       147584    \n",
      "_________________________________________________________________\n",
      "max_pooling2d_4 (MaxPooling2 (None, 7, 7, 128)         0         \n",
      "_________________________________________________________________\n",
      "flatten_1 (Flatten)          (None, 6272)              0         \n",
      "_________________________________________________________________\n",
      "dense_1 (Dense)              (None, 512)               3211776   \n",
      "_________________________________________________________________\n",
      "dense_2 (Dense)              (None, 5)                 2565      \n",
      "=================================================================\n",
      "Total params: 3,455,173\n",
      "Trainable params: 3,455,173\n",
      "Non-trainable params: 0\n",
      "_________________________________________________________________\n"
     ]
    }
   ],
   "source": [
    "model.summary()"
   ]
  },
  {
   "cell_type": "code",
   "execution_count": 11,
   "metadata": {},
   "outputs": [],
   "source": [
    "model.compile(optimizer='rmsprop',\n",
    "                loss='categorical_crossentropy',\n",
    "                metrics=['accuracy'])"
   ]
  },
  {
   "cell_type": "markdown",
   "metadata": {},
   "source": [
    "## Data Preprocess"
   ]
  },
  {
   "cell_type": "code",
   "execution_count": 12,
   "metadata": {},
   "outputs": [
    {
     "name": "stdout",
     "output_type": "stream",
     "text": [
      "Found 3515 images belonging to 5 classes.\n",
      "Found 1173 images belonging to 5 classes.\n"
     ]
    }
   ],
   "source": [
    "from keras.preprocessing.image import ImageDataGenerator\n",
    "train_datagen = ImageDataGenerator(rescale=1./255)\n",
    "test_datagen = ImageDataGenerator(rescale=1./255)\n",
    "train_generator = train_datagen.flow_from_directory(train_dir, target_size=(150, 150), batch_size=20, class_mode='categorical')\n",
    "validation_generator = test_datagen.flow_from_directory(validation_dir,target_size=(150, 150), batch_size=20, class_mode='categorical')"
   ]
  },
  {
   "cell_type": "markdown",
   "metadata": {},
   "source": [
    "이 generator를 이용하여 모델을 학습시키도록 하자.\n",
    "\n",
    "`fit_generator`를 이용하여 학습을 할텐데 차이라고 한다면 first argument에 python generator가 들어간다.\n",
    "\n",
    "`steps_per_epoch`는 sample개수 // batchsize (정수가 아닐 때 신경쓰기)"
   ]
  },
  {
   "cell_type": "code",
   "execution_count": 13,
   "metadata": {},
   "outputs": [
    {
     "name": "stdout",
     "output_type": "stream",
     "text": [
      "WARNING:tensorflow:From C:\\Users\\MASTER\\Anaconda3\\envs\\datascience\\lib\\site-packages\\tensorflow\\python\\ops\\math_ops.py:3066: to_int32 (from tensorflow.python.ops.math_ops) is deprecated and will be removed in a future version.\n",
      "Instructions for updating:\n",
      "Use tf.cast instead.\n",
      "Epoch 1/30\n",
      "100/100 [==============================] - 55s 553ms/step - loss: 1.6482 - acc: 0.3235 - val_loss: 1.3804 - val_acc: 0.4540\n",
      "Epoch 2/30\n",
      "100/100 [==============================] - 53s 530ms/step - loss: 1.3122 - acc: 0.4547 - val_loss: 1.2172 - val_acc: 0.5055\n",
      "Epoch 3/30\n",
      "100/100 [==============================] - 53s 529ms/step - loss: 1.1478 - acc: 0.5280 - val_loss: 0.9456 - val_acc: 0.6133\n",
      "Epoch 4/30\n",
      "100/100 [==============================] - 54s 535ms/step - loss: 0.9676 - acc: 0.6223 - val_loss: 0.9065 - val_acc: 0.6143\n",
      "Epoch 5/30\n",
      "100/100 [==============================] - 53s 533ms/step - loss: 0.8966 - acc: 0.6605 - val_loss: 0.9405 - val_acc: 0.6244\n",
      "Epoch 6/30\n",
      "100/100 [==============================] - 50s 502ms/step - loss: 0.7356 - acc: 0.6960 - val_loss: 0.7642 - val_acc: 0.6928\n",
      "Epoch 7/30\n",
      "100/100 [==============================] - 50s 496ms/step - loss: 0.7101 - acc: 0.7355 - val_loss: 0.9045 - val_acc: 0.6460\n",
      "Epoch 8/30\n",
      "100/100 [==============================] - 61s 606ms/step - loss: 0.5973 - acc: 0.7642 - val_loss: 0.8536 - val_acc: 0.6636\n",
      "Epoch 9/30\n",
      "100/100 [==============================] - 58s 583ms/step - loss: 0.5500 - acc: 0.7957 - val_loss: 0.6919 - val_acc: 0.7231\n",
      "Epoch 10/30\n",
      "100/100 [==============================] - 55s 550ms/step - loss: 0.4542 - acc: 0.8280 - val_loss: 0.7500 - val_acc: 0.7190\n",
      "Epoch 11/30\n",
      "100/100 [==============================] - 51s 511ms/step - loss: 0.3847 - acc: 0.8630 - val_loss: 1.4513 - val_acc: 0.6012\n",
      "Epoch 12/30\n",
      "100/100 [==============================] - 51s 511ms/step - loss: 0.3716 - acc: 0.8565 - val_loss: 0.7638 - val_acc: 0.7492\n",
      "Epoch 13/30\n",
      "100/100 [==============================] - 51s 511ms/step - loss: 0.3014 - acc: 0.8953 - val_loss: 1.2923 - val_acc: 0.7221\n",
      "Epoch 14/30\n",
      "100/100 [==============================] - 53s 535ms/step - loss: 0.3043 - acc: 0.8895 - val_loss: 1.1497 - val_acc: 0.7220\n",
      "Epoch 15/30\n",
      "100/100 [==============================] - 53s 534ms/step - loss: 0.2727 - acc: 0.9173 - val_loss: 1.3232 - val_acc: 0.7472\n",
      "Epoch 16/30\n",
      "100/100 [==============================] - 61s 613ms/step - loss: 0.2692 - acc: 0.9223 - val_loss: 1.2598 - val_acc: 0.7583\n",
      "Epoch 17/30\n",
      "100/100 [==============================] - 60s 603ms/step - loss: 0.2331 - acc: 0.9340 - val_loss: 1.6721 - val_acc: 0.7190\n",
      "Epoch 18/30\n",
      "100/100 [==============================] - 58s 578ms/step - loss: 0.2433 - acc: 0.9353 - val_loss: 1.2409 - val_acc: 0.7734\n",
      "Epoch 19/30\n",
      "100/100 [==============================] - 55s 553ms/step - loss: 0.2642 - acc: 0.9385 - val_loss: 2.0458 - val_acc: 0.7110\n",
      "Epoch 20/30\n",
      "100/100 [==============================] - 53s 528ms/step - loss: 0.1684 - acc: 0.9483 - val_loss: 1.7830 - val_acc: 0.7510\n",
      "Epoch 21/30\n",
      "100/100 [==============================] - 53s 526ms/step - loss: 0.2710 - acc: 0.9460 - val_loss: 2.2577 - val_acc: 0.7090\n",
      "Epoch 22/30\n",
      "100/100 [==============================] - 53s 526ms/step - loss: 0.2271 - acc: 0.9465 - val_loss: 1.6445 - val_acc: 0.7482\n",
      "Epoch 23/30\n",
      "100/100 [==============================] - 53s 526ms/step - loss: 0.3067 - acc: 0.9385 - val_loss: 2.2412 - val_acc: 0.7362\n",
      "Epoch 24/30\n",
      "100/100 [==============================] - 53s 526ms/step - loss: 0.2627 - acc: 0.9555 - val_loss: 2.3938 - val_acc: 0.7069\n",
      "Epoch 25/30\n",
      "100/100 [==============================] - 52s 524ms/step - loss: 0.1876 - acc: 0.9635 - val_loss: 2.1411 - val_acc: 0.7724\n",
      "Epoch 26/30\n",
      "100/100 [==============================] - 52s 524ms/step - loss: 0.3099 - acc: 0.9500 - val_loss: 3.2271 - val_acc: 0.7069\n",
      "Epoch 27/30\n",
      "100/100 [==============================] - 52s 522ms/step - loss: 0.6387 - acc: 0.9287 - val_loss: 3.3782 - val_acc: 0.7190\n",
      "Epoch 28/30\n",
      "100/100 [==============================] - 52s 523ms/step - loss: 0.7309 - acc: 0.9315 - val_loss: 4.5206 - val_acc: 0.6657\n",
      "Epoch 29/30\n",
      "100/100 [==============================] - 52s 523ms/step - loss: 1.0781 - acc: 0.9050 - val_loss: 4.1572 - val_acc: 0.7110\n",
      "Epoch 30/30\n",
      "100/100 [==============================] - 53s 530ms/step - loss: 0.8140 - acc: 0.9253 - val_loss: 3.3377 - val_acc: 0.7291\n"
     ]
    }
   ],
   "source": [
    "history = model.fit_generator(train_generator,\n",
    "                              steps_per_epoch=100,\n",
    "                              epochs=30,\n",
    "                              validation_data=validation_generator,\n",
    "                              validation_steps=50)"
   ]
  },
  {
   "cell_type": "code",
   "execution_count": 14,
   "metadata": {},
   "outputs": [
    {
     "data": {
      "text/plain": [
       "<keras.callbacks.History at 0x1c21658a9b0>"
      ]
     },
     "execution_count": 14,
     "metadata": {},
     "output_type": "execute_result"
    }
   ],
   "source": [
    "history"
   ]
  },
  {
   "cell_type": "code",
   "execution_count": 15,
   "metadata": {},
   "outputs": [],
   "source": [
    "model.save('20191121.h5')"
   ]
  },
  {
   "cell_type": "code",
   "execution_count": 17,
   "metadata": {},
   "outputs": [
    {
     "data": {
      "image/png": "[encoded data removed]",
      "text/plain": [
       "<Figure size 432x288 with 1 Axes>"
      ]
     },
     "metadata": {
      "needs_background": "light"
     },
     "output_type": "display_data"
    },
    {
     "data": {
      "image/png": "[encoded data removed]",
      "text/plain": [
       "<Figure size 432x288 with 1 Axes>"
      ]
     },
     "metadata": {
      "needs_background": "light"
     },
     "output_type": "display_data"
    }
   ],
   "source": [
    "#  Displaying curves of loss and accuracy during training\n",
    "import matplotlib.pyplot as plt\n",
    "acc = history.history['acc']\n",
    "val_acc = history.history['val_acc']\n",
    "loss = history.history['loss']\n",
    "val_loss = history.history['val_loss']\n",
    "epochs = range(1, len(acc) + 1)\n",
    "plt.plot(epochs, acc, 'bo', label='Training acc')\n",
    "plt.plot(epochs, val_acc, 'b', label='Validation acc')\n",
    "plt.title('Training and validation accuracy')\n",
    "plt.legend()\n",
    "plt.figure()\n",
    "plt.plot(epochs, loss, 'bo', label='Training loss')\n",
    "plt.plot(epochs, val_loss, 'b', label='Validation loss')\n",
    "plt.title('Training and validation loss')\n",
    "plt.legend()\n",
    "plt.show()"
   ]
  },
  {
   "cell_type": "markdown",
   "metadata": {},
   "source": [
    "epoch 5가 지나면서 부터 오버피팅이 되기 시작한다."
   ]
  },
  {
   "cell_type": "code",
   "execution_count": 22,
   "metadata": {},
   "outputs": [],
   "source": [
    "# Instantiating the VGG16 convolutional base\n",
    "from keras.applications import VGG16\n",
    "conv_base = VGG16(weights='imagenet',\n",
    "                  include_top=False,\n",
    "                  input_shape=(150, 150, 3))"
   ]
  },
  {
   "cell_type": "code",
   "execution_count": 23,
   "metadata": {},
   "outputs": [],
   "source": [
    "from keras import models\n",
    "from keras import layers\n",
    "\n",
    "model = models.Sequential()\n",
    "model.add(conv_base)\n",
    "model.add(layers.Flatten())\n",
    "model.add(layers.Dense(256, activation='relu'))\n",
    "model.add(layers.Dense(5, activation='softmax'))"
   ]
  },
  {
   "cell_type": "code",
   "execution_count": 24,
   "metadata": {},
   "outputs": [],
   "source": [
    "# Freezing all layers up to a specific one\n",
    "conv_base.trainable = True\n",
    "set_trainable = False\n",
    "for layer in conv_base.layers:\n",
    "    if layer.name == 'block5_conv1':\n",
    "        set_trainable = True\n",
    "    if set_trainable:\n",
    "        layer.trainable = True\n",
    "    else:\n",
    "        layer.trainable = False"
   ]
  },
  {
   "cell_type": "code",
   "execution_count": 26,
   "metadata": {
    "scrolled": true
   },
   "outputs": [
    {
     "name": "stdout",
     "output_type": "stream",
     "text": [
      "Epoch 1/100\n",
      "  4/100 [>.............................] - ETA: 6:36 - loss: 1.6769 - acc: 0.2250"
     ]
    },
    {
     "ename": "KeyboardInterrupt",
     "evalue": "",
     "output_type": "error",
     "traceback": [
      "\u001b[1;31m---------------------------------------------------------------------------\u001b[0m",
      "\u001b[1;31mKeyboardInterrupt\u001b[0m                         Traceback (most recent call last)",
      "\u001b[1;32m<ipython-input-26-773217b2c0e2>\u001b[0m in \u001b[0;36m<module>\u001b[1;34m\u001b[0m\n\u001b[0;32m     11\u001b[0m     \u001b[0mepochs\u001b[0m\u001b[1;33m=\u001b[0m\u001b[1;36m100\u001b[0m\u001b[1;33m,\u001b[0m\u001b[1;33m\u001b[0m\u001b[1;33m\u001b[0m\u001b[0m\n\u001b[0;32m     12\u001b[0m     \u001b[0mvalidation_data\u001b[0m\u001b[1;33m=\u001b[0m\u001b[0mvalidation_generator\u001b[0m\u001b[1;33m,\u001b[0m\u001b[1;33m\u001b[0m\u001b[1;33m\u001b[0m\u001b[0m\n\u001b[1;32m---> 13\u001b[1;33m     validation_steps=50)\n\u001b[0m",
      "\u001b[1;32m~\\Anaconda3\\envs\\datascience\\lib\\site-packages\\keras\\legacy\\interfaces.py\u001b[0m in \u001b[0;36mwrapper\u001b[1;34m(*args, **kwargs)\u001b[0m\n\u001b[0;32m     89\u001b[0m                 warnings.warn('Update your `' + object_name + '` call to the ' +\n\u001b[0;32m     90\u001b[0m                               'Keras 2 API: ' + signature, stacklevel=2)\n\u001b[1;32m---> 91\u001b[1;33m             \u001b[1;32mreturn\u001b[0m \u001b[0mfunc\u001b[0m\u001b[1;33m(\u001b[0m\u001b[1;33m*\u001b[0m\u001b[0margs\u001b[0m\u001b[1;33m,\u001b[0m \u001b[1;33m**\u001b[0m\u001b[0mkwargs\u001b[0m\u001b[1;33m)\u001b[0m\u001b[1;33m\u001b[0m\u001b[1;33m\u001b[0m\u001b[0m\n\u001b[0m\u001b[0;32m     92\u001b[0m         \u001b[0mwrapper\u001b[0m\u001b[1;33m.\u001b[0m\u001b[0m_original_function\u001b[0m \u001b[1;33m=\u001b[0m \u001b[0mfunc\u001b[0m\u001b[1;33m\u001b[0m\u001b[1;33m\u001b[0m\u001b[0m\n\u001b[0;32m     93\u001b[0m         \u001b[1;32mreturn\u001b[0m \u001b[0mwrapper\u001b[0m\u001b[1;33m\u001b[0m\u001b[1;33m\u001b[0m\u001b[0m\n",
      "\u001b[1;32m~\\Anaconda3\\envs\\datascience\\lib\\site-packages\\keras\\engine\\training.py\u001b[0m in \u001b[0;36mfit_generator\u001b[1;34m(self, generator, steps_per_epoch, epochs, verbose, callbacks, validation_data, validation_steps, class_weight, max_queue_size, workers, use_multiprocessing, shuffle, initial_epoch)\u001b[0m\n\u001b[0;32m   1416\u001b[0m             \u001b[0muse_multiprocessing\u001b[0m\u001b[1;33m=\u001b[0m\u001b[0muse_multiprocessing\u001b[0m\u001b[1;33m,\u001b[0m\u001b[1;33m\u001b[0m\u001b[1;33m\u001b[0m\u001b[0m\n\u001b[0;32m   1417\u001b[0m             \u001b[0mshuffle\u001b[0m\u001b[1;33m=\u001b[0m\u001b[0mshuffle\u001b[0m\u001b[1;33m,\u001b[0m\u001b[1;33m\u001b[0m\u001b[1;33m\u001b[0m\u001b[0m\n\u001b[1;32m-> 1418\u001b[1;33m             initial_epoch=initial_epoch)\n\u001b[0m\u001b[0;32m   1419\u001b[0m \u001b[1;33m\u001b[0m\u001b[0m\n\u001b[0;32m   1420\u001b[0m     \u001b[1;33m@\u001b[0m\u001b[0minterfaces\u001b[0m\u001b[1;33m.\u001b[0m\u001b[0mlegacy_generator_methods_support\u001b[0m\u001b[1;33m\u001b[0m\u001b[1;33m\u001b[0m\u001b[0m\n",
      "\u001b[1;32m~\\Anaconda3\\envs\\datascience\\lib\\site-packages\\keras\\engine\\training_generator.py\u001b[0m in \u001b[0;36mfit_generator\u001b[1;34m(model, generator, steps_per_epoch, epochs, verbose, callbacks, validation_data, validation_steps, class_weight, max_queue_size, workers, use_multiprocessing, shuffle, initial_epoch)\u001b[0m\n\u001b[0;32m    215\u001b[0m                 outs = model.train_on_batch(x, y,\n\u001b[0;32m    216\u001b[0m                                             \u001b[0msample_weight\u001b[0m\u001b[1;33m=\u001b[0m\u001b[0msample_weight\u001b[0m\u001b[1;33m,\u001b[0m\u001b[1;33m\u001b[0m\u001b[1;33m\u001b[0m\u001b[0m\n\u001b[1;32m--> 217\u001b[1;33m                                             class_weight=class_weight)\n\u001b[0m\u001b[0;32m    218\u001b[0m \u001b[1;33m\u001b[0m\u001b[0m\n\u001b[0;32m    219\u001b[0m                 \u001b[0mouts\u001b[0m \u001b[1;33m=\u001b[0m \u001b[0mto_list\u001b[0m\u001b[1;33m(\u001b[0m\u001b[0mouts\u001b[0m\u001b[1;33m)\u001b[0m\u001b[1;33m\u001b[0m\u001b[1;33m\u001b[0m\u001b[0m\n",
      "\u001b[1;32m~\\Anaconda3\\envs\\datascience\\lib\\site-packages\\keras\\engine\\training.py\u001b[0m in \u001b[0;36mtrain_on_batch\u001b[1;34m(self, x, y, sample_weight, class_weight)\u001b[0m\n\u001b[0;32m   1215\u001b[0m             \u001b[0mins\u001b[0m \u001b[1;33m=\u001b[0m \u001b[0mx\u001b[0m \u001b[1;33m+\u001b[0m \u001b[0my\u001b[0m \u001b[1;33m+\u001b[0m \u001b[0msample_weights\u001b[0m\u001b[1;33m\u001b[0m\u001b[1;33m\u001b[0m\u001b[0m\n\u001b[0;32m   1216\u001b[0m         \u001b[0mself\u001b[0m\u001b[1;33m.\u001b[0m\u001b[0m_make_train_function\u001b[0m\u001b[1;33m(\u001b[0m\u001b[1;33m)\u001b[0m\u001b[1;33m\u001b[0m\u001b[1;33m\u001b[0m\u001b[0m\n\u001b[1;32m-> 1217\u001b[1;33m         \u001b[0moutputs\u001b[0m \u001b[1;33m=\u001b[0m \u001b[0mself\u001b[0m\u001b[1;33m.\u001b[0m\u001b[0mtrain_function\u001b[0m\u001b[1;33m(\u001b[0m\u001b[0mins\u001b[0m\u001b[1;33m)\u001b[0m\u001b[1;33m\u001b[0m\u001b[1;33m\u001b[0m\u001b[0m\n\u001b[0m\u001b[0;32m   1218\u001b[0m         \u001b[1;32mreturn\u001b[0m \u001b[0munpack_singleton\u001b[0m\u001b[1;33m(\u001b[0m\u001b[0moutputs\u001b[0m\u001b[1;33m)\u001b[0m\u001b[1;33m\u001b[0m\u001b[1;33m\u001b[0m\u001b[0m\n\u001b[0;32m   1219\u001b[0m \u001b[1;33m\u001b[0m\u001b[0m\n",
      "\u001b[1;32m~\\Anaconda3\\envs\\datascience\\lib\\site-packages\\keras\\backend\\tensorflow_backend.py\u001b[0m in \u001b[0;36m__call__\u001b[1;34m(self, inputs)\u001b[0m\n\u001b[0;32m   2713\u001b[0m                 \u001b[1;32mreturn\u001b[0m \u001b[0mself\u001b[0m\u001b[1;33m.\u001b[0m\u001b[0m_legacy_call\u001b[0m\u001b[1;33m(\u001b[0m\u001b[0minputs\u001b[0m\u001b[1;33m)\u001b[0m\u001b[1;33m\u001b[0m\u001b[1;33m\u001b[0m\u001b[0m\n\u001b[0;32m   2714\u001b[0m \u001b[1;33m\u001b[0m\u001b[0m\n\u001b[1;32m-> 2715\u001b[1;33m             \u001b[1;32mreturn\u001b[0m \u001b[0mself\u001b[0m\u001b[1;33m.\u001b[0m\u001b[0m_call\u001b[0m\u001b[1;33m(\u001b[0m\u001b[0minputs\u001b[0m\u001b[1;33m)\u001b[0m\u001b[1;33m\u001b[0m\u001b[1;33m\u001b[0m\u001b[0m\n\u001b[0m\u001b[0;32m   2716\u001b[0m         \u001b[1;32melse\u001b[0m\u001b[1;33m:\u001b[0m\u001b[1;33m\u001b[0m\u001b[1;33m\u001b[0m\u001b[0m\n\u001b[0;32m   2717\u001b[0m             \u001b[1;32mif\u001b[0m \u001b[0mpy_any\u001b[0m\u001b[1;33m(\u001b[0m\u001b[0mis_tensor\u001b[0m\u001b[1;33m(\u001b[0m\u001b[0mx\u001b[0m\u001b[1;33m)\u001b[0m \u001b[1;32mfor\u001b[0m \u001b[0mx\u001b[0m \u001b[1;32min\u001b[0m \u001b[0minputs\u001b[0m\u001b[1;33m)\u001b[0m\u001b[1;33m:\u001b[0m\u001b[1;33m\u001b[0m\u001b[1;33m\u001b[0m\u001b[0m\n",
      "\u001b[1;32m~\\Anaconda3\\envs\\datascience\\lib\\site-packages\\keras\\backend\\tensorflow_backend.py\u001b[0m in \u001b[0;36m_call\u001b[1;34m(self, inputs)\u001b[0m\n\u001b[0;32m   2673\u001b[0m             \u001b[0mfetched\u001b[0m \u001b[1;33m=\u001b[0m \u001b[0mself\u001b[0m\u001b[1;33m.\u001b[0m\u001b[0m_callable_fn\u001b[0m\u001b[1;33m(\u001b[0m\u001b[1;33m*\u001b[0m\u001b[0marray_vals\u001b[0m\u001b[1;33m,\u001b[0m \u001b[0mrun_metadata\u001b[0m\u001b[1;33m=\u001b[0m\u001b[0mself\u001b[0m\u001b[1;33m.\u001b[0m\u001b[0mrun_metadata\u001b[0m\u001b[1;33m)\u001b[0m\u001b[1;33m\u001b[0m\u001b[1;33m\u001b[0m\u001b[0m\n\u001b[0;32m   2674\u001b[0m         \u001b[1;32melse\u001b[0m\u001b[1;33m:\u001b[0m\u001b[1;33m\u001b[0m\u001b[1;33m\u001b[0m\u001b[0m\n\u001b[1;32m-> 2675\u001b[1;33m             \u001b[0mfetched\u001b[0m \u001b[1;33m=\u001b[0m \u001b[0mself\u001b[0m\u001b[1;33m.\u001b[0m\u001b[0m_callable_fn\u001b[0m\u001b[1;33m(\u001b[0m\u001b[1;33m*\u001b[0m\u001b[0marray_vals\u001b[0m\u001b[1;33m)\u001b[0m\u001b[1;33m\u001b[0m\u001b[1;33m\u001b[0m\u001b[0m\n\u001b[0m\u001b[0;32m   2676\u001b[0m         \u001b[1;32mreturn\u001b[0m \u001b[0mfetched\u001b[0m\u001b[1;33m[\u001b[0m\u001b[1;33m:\u001b[0m\u001b[0mlen\u001b[0m\u001b[1;33m(\u001b[0m\u001b[0mself\u001b[0m\u001b[1;33m.\u001b[0m\u001b[0moutputs\u001b[0m\u001b[1;33m)\u001b[0m\u001b[1;33m]\u001b[0m\u001b[1;33m\u001b[0m\u001b[1;33m\u001b[0m\u001b[0m\n\u001b[0;32m   2677\u001b[0m \u001b[1;33m\u001b[0m\u001b[0m\n",
      "\u001b[1;32m~\\Anaconda3\\envs\\datascience\\lib\\site-packages\\tensorflow\\python\\client\\session.py\u001b[0m in \u001b[0;36m__call__\u001b[1;34m(self, *args, **kwargs)\u001b[0m\n\u001b[0;32m   1437\u001b[0m           ret = tf_session.TF_SessionRunCallable(\n\u001b[0;32m   1438\u001b[0m               \u001b[0mself\u001b[0m\u001b[1;33m.\u001b[0m\u001b[0m_session\u001b[0m\u001b[1;33m.\u001b[0m\u001b[0m_session\u001b[0m\u001b[1;33m,\u001b[0m \u001b[0mself\u001b[0m\u001b[1;33m.\u001b[0m\u001b[0m_handle\u001b[0m\u001b[1;33m,\u001b[0m \u001b[0margs\u001b[0m\u001b[1;33m,\u001b[0m \u001b[0mstatus\u001b[0m\u001b[1;33m,\u001b[0m\u001b[1;33m\u001b[0m\u001b[1;33m\u001b[0m\u001b[0m\n\u001b[1;32m-> 1439\u001b[1;33m               run_metadata_ptr)\n\u001b[0m\u001b[0;32m   1440\u001b[0m         \u001b[1;32mif\u001b[0m \u001b[0mrun_metadata\u001b[0m\u001b[1;33m:\u001b[0m\u001b[1;33m\u001b[0m\u001b[1;33m\u001b[0m\u001b[0m\n\u001b[0;32m   1441\u001b[0m           \u001b[0mproto_data\u001b[0m \u001b[1;33m=\u001b[0m \u001b[0mtf_session\u001b[0m\u001b[1;33m.\u001b[0m\u001b[0mTF_GetBuffer\u001b[0m\u001b[1;33m(\u001b[0m\u001b[0mrun_metadata_ptr\u001b[0m\u001b[1;33m)\u001b[0m\u001b[1;33m\u001b[0m\u001b[1;33m\u001b[0m\u001b[0m\n",
      "\u001b[1;31mKeyboardInterrupt\u001b[0m: "
     ]
    }
   ],
   "source": [
    "# Fine-tuning the model\n",
    "from keras import optimizers\n",
    "\n",
    "model.compile(loss='categorical_crossentropy',\n",
    "              optimizer=optimizers.RMSprop(lr=1e-5),\n",
    "              metrics=['acc'])\n",
    "\n",
    "history = model.fit_generator(\n",
    "    train_generator,\n",
    "    steps_per_epoch=100,\n",
    "    epochs=100,\n",
    "    validation_data=validation_generator,\n",
    "    validation_steps=50)"
   ]
  },
  {
   "cell_type": "code",
   "execution_count": null,
   "metadata": {},
   "outputs": [],
   "source": []
  }
 ],
 "metadata": {
  "kernelspec": {
   "display_name": "Python 3",
   "language": "python",
   "name": "python3"
  },
  "language_info": {
   "codemirror_mode": {
    "name": "ipython",
    "version": 3
   },
   "file_extension": ".py",
   "mimetype": "text/x-python",
   "name": "python",
   "nbconvert_exporter": "python",
   "pygments_lexer": "ipython3",
   "version": "3.7.3"
  }
 },
 "nbformat": 4,
 "nbformat_minor": 2
}
